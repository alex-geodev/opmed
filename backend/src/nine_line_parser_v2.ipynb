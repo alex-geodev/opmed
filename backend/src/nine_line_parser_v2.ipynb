{
 "cells": [
  {
   "cell_type": "code",
   "execution_count": 1,
   "metadata": {},
   "outputs": [],
   "source": [
    "import json\n",
    "import re\n",
    "from mgrs_convert import mgrs_to_lat_long\n",
    "from collections import defaultdict"
   ]
  },
  {
   "cell_type": "code",
   "execution_count": 2,
   "metadata": {},
   "outputs": [],
   "source": [
    "fields = {'patient_precedence': {'a':'urgent','b':'urgent surgical', 'c':'priority','d':'routine','e':'convenience'},\n",
    "          'equipment':{'a':'None','b':'hoist','c':'extraction equipment','d':'ventilator'},\n",
    "          'mobility' : {'l':'litter','a':'ambulatory'},\n",
    "          'site_security' : {'n':'No enemy troops in area', 'p':'Possible enemy troops in area', 'e':'Enemy troops in area - no escort',\n",
    "                        'x':'Enemy troops in area - escort'},\n",
    "          'pickup_mark':{'a':'Panels','b':'Pyrotechnic Signal','c': 'Smoke Signal','d':'None','e':'Other'},            \n",
    "          'nationality' : {'a':'us military','b':'us civilian', 'c':'non us military',\n",
    "                           'd':'non us civilian','e':'enemy prisoner of war'},\n",
    "           'cbrn':{'c':'chemical','b':'biological','r':'radioactive','n':'nuclear'}\n",
    "            }\n",
    "\n",
    "line_num = {1:'location', 2:'freq', 3:'patient_precedence', 4:'equipment',\n",
    "             5:'mobility', 6:'site_security', 7:'pickup_mark', 8:'nationality',\n",
    "             9:'cbrn'}"
   ]
  },
  {
   "cell_type": "code",
   "execution_count": 3,
   "metadata": {},
   "outputs": [],
   "source": [
    "with open('../data/nine_lines/nine_line_test.json') as f:\n",
    "    nine_line_output = json.load(f)"
   ]
  },
  {
   "cell_type": "code",
   "execution_count": 4,
   "metadata": {},
   "outputs": [],
   "source": [
    "with open('../data/lookup_tables/numbers.json') as f:\n",
    "    number_dict = json.load(f)\n",
    "\n",
    "with open('../data/lookup_tables/phonetic.json') as f:\n",
    "    phonetic = json.load(f)    "
   ]
  },
  {
   "cell_type": "code",
   "execution_count": 5,
   "metadata": {},
   "outputs": [
    {
     "data": {
      "text/plain": [
       "{'id': 'c3178739-2f4e-4e4d-a335-c1aa3ce733f4',\n",
       " 'audio_path': '/Users/alex/Dev/hackathon/opmed/apinine_line_dom.wav',\n",
       " 'audio_translation': 'nine line as follows line one three six uniform x-ray victor eight one four seven two four four five line two three niner three niner echo seven romeo line three one charlie two delta line four alpha line five one lima to alpha one line six november line seven alpha line eight three alpha over'}"
      ]
     },
     "execution_count": 5,
     "metadata": {},
     "output_type": "execute_result"
    }
   ],
   "source": [
    "nine_line_output"
   ]
  },
  {
   "cell_type": "code",
   "execution_count": 6,
   "metadata": {},
   "outputs": [],
   "source": [
    "nine_line_dict = {}\n",
    "\n",
    "i=1\n",
    "\n",
    "\n",
    "#find line one start\n",
    "line_one_start = re.search('line one',nine_line_output.get('audio_translation'))\n",
    "line_one_start = line_one_start.start()\n",
    "\n",
    "for line in nine_line_output.get('audio_translation')[line_one_start:].split('line'):\n",
    "    if line:\n",
    "        nine_line_dict[line_num[i]] = ' '.join(line.split()[1:])\n",
    "        i+=1"
   ]
  },
  {
   "cell_type": "code",
   "execution_count": 7,
   "metadata": {},
   "outputs": [
    {
     "data": {
      "text/plain": [
       "{'location': 'three six uniform x-ray victor eight one four seven two four four five',\n",
       " 'freq': 'three niner three niner echo seven romeo',\n",
       " 'patient_precedence': 'one charlie two delta',\n",
       " 'equipment': 'alpha',\n",
       " 'mobility': 'one lima to alpha one',\n",
       " 'site_security': 'november',\n",
       " 'pickup_mark': 'alpha',\n",
       " 'nationality': 'three alpha over'}"
      ]
     },
     "execution_count": 7,
     "metadata": {},
     "output_type": "execute_result"
    }
   ],
   "source": [
    "nine_line_dict"
   ]
  },
  {
   "cell_type": "code",
   "execution_count": 8,
   "metadata": {},
   "outputs": [],
   "source": [
    "def check_for_phonetic(word:str)->str:\n",
    "   match = [item for item in phonetic.get('phonetic_alphabet') if item == word]\n",
    "   return match[0][0] if match else ''\n",
    "\n",
    "def check_for_number(word:str)->str:\n",
    "   match = [item for item in list(number_dict.get('digits').keys()) if item == word]\n",
    "   return  str(number_dict.get('digits')[match[0]]) if match else ''\n",
    "\n",
    "def get_field(letter:str,field_name:str)->str:\n",
    "   match = [v for k,v in fields.get(field_name).items() if k == letter]\n",
    "   return match[0] if match else 'None'"
   ]
  },
  {
   "cell_type": "code",
   "execution_count": 9,
   "metadata": {},
   "outputs": [],
   "source": [
    "formatted_nine_liner = {}\n",
    "for k,v in nine_line_dict.items():\n",
    "    output=''\n",
    "    \n",
    "    #get fields with associated values and process\n",
    "    if k in ['patient_precedence','mobility','nationality']:\n",
    "        for idx,word in enumerate(v.split()):\n",
    "            result = check_for_phonetic(word)\n",
    "            if result:\n",
    "                field = get_field(result,k)\n",
    "                try:\n",
    "                    quantity = check_for_number(v.split()[idx-1])\n",
    "                except:\n",
    "                    quantity = check_for_number(v.split()[idx+1])\n",
    "                formatted_nine_liner[field] = quantity\n",
    "\n",
    "    else:\n",
    "        for idx,word in enumerate(v.split()):\n",
    "            result = check_for_phonetic(word)\n",
    "            if result:\n",
    "                output+=result\n",
    "            else:\n",
    "                output+=check_for_number(word)\n",
    "        if k == 'location':\n",
    "            lat,lon = mgrs_to_lat_long(output)\n",
    "            formatted_nine_liner[k] = {'mgrs':output,'lat':lat,'lon':lon}\n",
    "        elif k in ['equipment','site_security','pickup_mark']:\n",
    "            field = get_field(result,k)\n",
    "            formatted_nine_liner[k]=field\n",
    "        else:\n",
    "            formatted_nine_liner[k]=output\n"
   ]
  },
  {
   "cell_type": "code",
   "execution_count": 10,
   "metadata": {},
   "outputs": [
    {
     "data": {
      "text/plain": [
       "{'location': 'three six uniform x-ray victor eight one four seven two four four five',\n",
       " 'freq': 'three niner three niner echo seven romeo',\n",
       " 'patient_precedence': 'one charlie two delta',\n",
       " 'equipment': 'alpha',\n",
       " 'mobility': 'one lima to alpha one',\n",
       " 'site_security': 'november',\n",
       " 'pickup_mark': 'alpha',\n",
       " 'nationality': 'three alpha over'}"
      ]
     },
     "execution_count": 10,
     "metadata": {},
     "output_type": "execute_result"
    }
   ],
   "source": [
    "nine_line_dict"
   ]
  },
  {
   "cell_type": "code",
   "execution_count": 11,
   "metadata": {},
   "outputs": [
    {
     "data": {
      "text/plain": [
       "{'location': {'mgrs': '36uxv81472445',\n",
       "  'lat': 48.946327719344,\n",
       "  'lon': 35.47848991303637},\n",
       " 'freq': '3939e7r',\n",
       " 'priority': '1',\n",
       " 'routine': '2',\n",
       " 'equipment': 'None',\n",
       " 'litter': '1',\n",
       " 'ambulatory': '2',\n",
       " 'site_security': 'No enemy troops in area',\n",
       " 'pickup_mark': 'Panels',\n",
       " 'us military': '3'}"
      ]
     },
     "execution_count": 11,
     "metadata": {},
     "output_type": "execute_result"
    }
   ],
   "source": [
    "formatted_nine_liner"
   ]
  },
  {
   "cell_type": "code",
   "execution_count": 12,
   "metadata": {},
   "outputs": [],
   "source": [
    "import nineline_entry"
   ]
  },
  {
   "cell_type": "code",
   "execution_count": 15,
   "metadata": {},
   "outputs": [],
   "source": [
    "def send_to_db(nineline:dict):\n",
    "    id_ = '68976'#nine_line_output.get('id')\n",
    "    \n",
    "    audio_transcription = nine_line_output.get('audio_translation')\n",
    "    audio_file = nine_line_output.get('audio_path')\n",
    "    mgrs = nineline.get('location')['mgrs']\n",
    "    lat =  nineline.get('location')['lat']\n",
    "    lon = nineline.get('location')['lon']\n",
    "    frequency = nineline.get('freq')\n",
    "    urgent = nineline.get('urgent')\n",
    "    urgent_surgical = nineline.get('urgent surgical')\n",
    "    priority= nineline.get('priority')\n",
    "    routine = nineline.get('routine')\n",
    "    convenience = nineline.get('convenience')\n",
    "    litter = nineline.get('litter')\n",
    "    ambulatory = nineline.get('ambulatory')\n",
    "    us_military = nineline.get('us military')\n",
    "    us_civilian = nineline.get('us civilian')\n",
    "    non_us_military = nineline.get('non us military')\n",
    "    non_us_civilian = nineline.get('non us civilian')\n",
    "    enemy_prisoner_of_war = nineline.get('enemy prisoner of war')\n",
    "    equipment = nineline.get('equipment')\n",
    "    site_security = nineline.get('site_security')\n",
    "    pickup_mark = nineline.get('pickup_mark')\n",
    "    cbrn = nineline.get('cbrn')\n",
    "\n",
    "    nineline_entry.insert(id_,audio_transcription,audio_file,mgrs,lat,lon,frequency,\n",
    "                          urgent,urgent_surgical,priority,routine,convenience,litter,\n",
    "                          ambulatory, us_military, us_civilian, non_us_military,\n",
    "                          non_us_civilian, enemy_prisoner_of_war,equipment,site_security,pickup_mark,cbrn)"
   ]
  },
  {
   "cell_type": "code",
   "execution_count": 16,
   "metadata": {},
   "outputs": [],
   "source": [
    "send_to_db(formatted_nine_liner)"
   ]
  },
  {
   "cell_type": "code",
   "execution_count": 17,
   "metadata": {},
   "outputs": [
    {
     "data": {
      "text/plain": [
       "{'id': '68976',\n",
       " 'audio_transcription': '36uxv81472445',\n",
       " 'audio_file': 'nine line as follows line one three six uniform x-ray victor eight one four seven two four four five line two three niner three niner echo seven romeo line three one charlie two delta line four alpha line five one lima to alpha one line six november line seven alpha line eight three alpha over',\n",
       " 'mgrs': '/Users/alex/Dev/hackathon/opmed/apinine_line_dom.wav',\n",
       " 'lat': 48.946327719344,\n",
       " 'lon': 35.47848991303637,\n",
       " 'frequency': '3939e7r',\n",
       " 'urgent': 'None',\n",
       " 'urgent_surgical': 'None',\n",
       " 'priority': 1,\n",
       " 'routine': 2,\n",
       " 'convenience': 'None',\n",
       " 'litter': 1,\n",
       " 'ambulatory': 2,\n",
       " 'us_military': 3,\n",
       " 'us_civilian': 'None',\n",
       " 'non_us_military': 'None',\n",
       " 'non_us_civilian': 'None',\n",
       " 'enemy_prisoner_of_war': 'None',\n",
       " 'equipment': 'None',\n",
       " 'site_security': 'No enemy troops in area',\n",
       " 'pickup_mark': 'Panels',\n",
       " 'cbrn': 'None'}"
      ]
     },
     "execution_count": 17,
     "metadata": {},
     "output_type": "execute_result"
    }
   ],
   "source": [
    "nineline_entry.fetch_one_by_id('68976')"
   ]
  }
 ],
 "metadata": {
  "kernelspec": {
   "display_name": ".venv",
   "language": "python",
   "name": "python3"
  },
  "language_info": {
   "codemirror_mode": {
    "name": "ipython",
    "version": 3
   },
   "file_extension": ".py",
   "mimetype": "text/x-python",
   "name": "python",
   "nbconvert_exporter": "python",
   "pygments_lexer": "ipython3",
   "version": "3.10.14"
  }
 },
 "nbformat": 4,
 "nbformat_minor": 2
}
