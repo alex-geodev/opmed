{
 "cells": [
  {
   "cell_type": "code",
   "execution_count": 115,
   "metadata": {},
   "outputs": [],
   "source": [
    "import json\n",
    "import re\n",
    "from mgrs_convert import mgrs_to_lat_long\n",
    "from collections import defaultdict"
   ]
  },
  {
   "cell_type": "code",
   "execution_count": 116,
   "metadata": {},
   "outputs": [],
   "source": [
    "fields = {'patient_precedence': {'a':'urgent','b':'urgent surgical', 'c':'priority','d':'routine','e':'convenience'},\n",
    "          'equipment':{'a':'None','b':'hoist','c':'extraction equipment','d':'ventilator'},\n",
    "          'mobility' : {'l':'litter','a':'ambulatory'},\n",
    "          'site_security' : {'n':'No enemy troops in area', 'p':'Possible enemy troops in area', 'e':'Enemy troops in area - no escort',\n",
    "                        'x':'Enemy troops in area - escort'},\n",
    "          'pickup_mark':{'a':'Panels','b':'Pyrotechnic Signal','c': 'Smoke Signal','d':'None','e':'Other'},            \n",
    "          'nationality' : {'a':'us military','b':'us civilian', 'c':'non us military',\n",
    "                           'd':'non us civilian','e':'enemy prisoner of war'},\n",
    "           'cbrn':{'c':'chemical','b':'biological','r':'radioactive','n':'nuclear'}\n",
    "            }\n",
    "\n",
    "line_num = {1:'location', 2:'freq', 3:'patient_precedence', 4:'equipment',\n",
    "             5:'mobility', 6:'site_security', 7:'pickup_mark', 8:'nationality',\n",
    "             9:'cbrn'}"
   ]
  },
  {
   "cell_type": "code",
   "execution_count": 117,
   "metadata": {},
   "outputs": [],
   "source": [
    "with open('../data/nine_lines/nine_line_test.json') as f:\n",
    "    nine_line_output = json.load(f)"
   ]
  },
  {
   "cell_type": "code",
   "execution_count": 118,
   "metadata": {},
   "outputs": [],
   "source": [
    "with open('../data/lookup_tables/numbers.json') as f:\n",
    "    number_dict = json.load(f)\n",
    "\n",
    "with open('../data/lookup_tables/phonetic.json') as f:\n",
    "    phonetic = json.load(f)    "
   ]
  },
  {
   "cell_type": "code",
   "execution_count": 119,
   "metadata": {},
   "outputs": [
    {
     "data": {
      "text/plain": [
       "{'id': 'c3178739-2f4e-4e4d-a335-c1aa3ce733f4',\n",
       " 'audio_path': '/Users/alex/Dev/hackathon/opmed/apinine_line_dom.wav',\n",
       " 'audio_translation': 'nine line as follows line one three six uniform x-ray victor eight one four seven two four four five line two three niner three niner echo seven romeo line three one charlie two delta line four alpha line five one lima to alpha one line six november line seven alpha line eight three alpha over'}"
      ]
     },
     "execution_count": 119,
     "metadata": {},
     "output_type": "execute_result"
    }
   ],
   "source": [
    "nine_line_output"
   ]
  },
  {
   "cell_type": "code",
   "execution_count": 120,
   "metadata": {},
   "outputs": [],
   "source": [
    "nine_line_dict = {}\n",
    "\n",
    "i=1\n",
    "\n",
    "\n",
    "#find line one start\n",
    "line_one_start = re.search('line one',nine_line_output.get('audio_translation'))\n",
    "line_one_start = line_one_start.start()\n",
    "\n",
    "for line in nine_line_output.get('audio_translation')[line_one_start:].split('line'):\n",
    "    if line:\n",
    "        nine_line_dict[line_num[i]] = ' '.join(line.split()[1:])\n",
    "        i+=1"
   ]
  },
  {
   "cell_type": "code",
   "execution_count": 121,
   "metadata": {},
   "outputs": [
    {
     "data": {
      "text/plain": [
       "{'location': 'three six uniform x-ray victor eight one four seven two four four five',\n",
       " 'freq': 'three niner three niner echo seven romeo',\n",
       " 'patient_precedence': 'one charlie two delta',\n",
       " 'equipment': 'alpha',\n",
       " 'mobility': 'one lima to alpha one',\n",
       " 'site_security': 'november',\n",
       " 'pickup_mark': 'alpha',\n",
       " 'nationality': 'three alpha over'}"
      ]
     },
     "execution_count": 121,
     "metadata": {},
     "output_type": "execute_result"
    }
   ],
   "source": [
    "nine_line_dict"
   ]
  },
  {
   "cell_type": "code",
   "execution_count": 122,
   "metadata": {},
   "outputs": [],
   "source": [
    "def check_for_phonetic(word:str)->str:\n",
    "   match = [item for item in phonetic.get('phonetic_alphabet') if item == word]\n",
    "   return match[0][0] if match else ''\n",
    "\n",
    "def check_for_number(word:str)->str:\n",
    "   match = [item for item in list(number_dict.get('digits').keys()) if item == word]\n",
    "   return  str(number_dict.get('digits')[match[0]]) if match else ''\n",
    "\n",
    "def get_field(letter:str,field_name:str)->str:\n",
    "   match = [v for k,v in fields.get(field_name).items() if k == letter]\n",
    "   return match[0] if match else 'None'"
   ]
  },
  {
   "cell_type": "code",
   "execution_count": 123,
   "metadata": {},
   "outputs": [],
   "source": [
    "formatted_nine_liner = {}\n",
    "for k,v in nine_line_dict.items():\n",
    "    output=''\n",
    "    \n",
    "    #get fields with associated values and process\n",
    "    if k in ['patient_precedence','mobility','nationality']:\n",
    "        for idx,word in enumerate(v.split()):\n",
    "            result = check_for_phonetic(word)\n",
    "            if result:\n",
    "                field = get_field(result,k)\n",
    "                try:\n",
    "                    quantity = check_for_number(v.split()[idx-1])\n",
    "                except:\n",
    "                    quantity = check_for_number(v.split()[idx+1])\n",
    "                formatted_nine_liner[field] = quantity\n",
    "\n",
    "    else:\n",
    "        for idx,word in enumerate(v.split()):\n",
    "            result = check_for_phonetic(word)\n",
    "            if result:\n",
    "                output+=result\n",
    "            else:\n",
    "                output+=check_for_number(word)\n",
    "        if k == 'location':\n",
    "            lat,lon = mgrs_to_lat_long(output)\n",
    "            formatted_nine_liner[k] = {'mgrs':output,'lat':lat,'lon':lon}\n",
    "        elif k in ['equipment','site_security','pickup_mark']:\n",
    "            field = get_field(result,k)\n",
    "            formatted_nine_liner[k]=field\n",
    "        else:\n",
    "            formatted_nine_liner[k]=output\n"
   ]
  },
  {
   "cell_type": "code",
   "execution_count": 124,
   "metadata": {},
   "outputs": [
    {
     "data": {
      "text/plain": [
       "{'location': 'three six uniform x-ray victor eight one four seven two four four five',\n",
       " 'freq': 'three niner three niner echo seven romeo',\n",
       " 'patient_precedence': 'one charlie two delta',\n",
       " 'equipment': 'alpha',\n",
       " 'mobility': 'one lima to alpha one',\n",
       " 'site_security': 'november',\n",
       " 'pickup_mark': 'alpha',\n",
       " 'nationality': 'three alpha over'}"
      ]
     },
     "execution_count": 124,
     "metadata": {},
     "output_type": "execute_result"
    }
   ],
   "source": [
    "nine_line_dict"
   ]
  },
  {
   "cell_type": "code",
   "execution_count": 125,
   "metadata": {},
   "outputs": [
    {
     "data": {
      "text/plain": [
       "{'location': {'mgrs': '36uxv81472445',\n",
       "  'lat': 48.946327719344,\n",
       "  'lon': 35.47848991303637},\n",
       " 'freq': '3939e7r',\n",
       " 'priority': '1',\n",
       " 'routine': '2',\n",
       " 'equipment': 'None',\n",
       " 'litter': '1',\n",
       " 'ambulatory': '2',\n",
       " 'site_security': 'No enemy troops in area',\n",
       " 'pickup_mark': 'Panels',\n",
       " 'us military': '3'}"
      ]
     },
     "execution_count": 125,
     "metadata": {},
     "output_type": "execute_result"
    }
   ],
   "source": [
    "formatted_nine_liner"
   ]
  },
  {
   "cell_type": "code",
   "execution_count": 129,
   "metadata": {},
   "outputs": [],
   "source": [
    "import nineline_entry"
   ]
  },
  {
   "cell_type": "code",
   "execution_count": 130,
   "metadata": {},
   "outputs": [],
   "source": [
    "def send_to_db(nineline:dict):\n",
    "    id_ = nine_line_output.get('id')\n",
    "    audio_transcription = nine_line_output.get('audio_translation')\n",
    "    audio_file = nine_line_output.get('audio_path')\n",
    "    mgrs = nineline.get('location')['mgrs']\n",
    "    lat =  nineline.get('location')['lat']\n",
    "    lon = nineline.get('location')['lon']\n",
    "    frequency = nineline.get('freq')\n",
    "    urgent = nineline.get('urgent')\n",
    "    urgent_surgical = nineline.get('urgent surgical')\n",
    "    priority= nineline.get('priority')\n",
    "    routine = nineline.get('routine')\n",
    "    convenience = nineline.get('convenience')\n",
    "    litter = nineline.get('litter')\n",
    "    ambulatory = nineline.get('ambulatory')\n",
    "    us_military = nineline.get('us military')\n",
    "    us_civilian = nineline.get('us civilian')\n",
    "    non_us_military = nineline.get('non us military')\n",
    "    non_us_civilian = nineline.get('non us civilian')\n",
    "    enemy_prisoner_of_war = nineline.get('enemy prisoner of war')\n",
    "    equipment = nineline.get('equipment')\n",
    "    site_security = nineline.get('site_security')\n",
    "    pickup_mark = nineline.get('pickup_mark')\n",
    "    cbrn = nineline.get('cbrn')\n",
    "\n",
    "    nineline_entry.insert(id_,audio_transcription,audio_file,mgrs,lat,lon,frequency,\n",
    "                          urgent,urgent_surgical,priority,routine,convenience,litter,\n",
    "                          ambulatory, us_military, us_civilian, non_us_military,\n",
    "                          non_us_civilian, enemy_prisoner_of_war,equipment,site_security,pickup_mark,cbrn)"
   ]
  },
  {
   "cell_type": "code",
   "execution_count": 131,
   "metadata": {},
   "outputs": [
    {
     "ename": "TypeError",
     "evalue": "insert() takes 22 positional arguments but 23 were given",
     "output_type": "error",
     "traceback": [
      "\u001b[0;31m---------------------------------------------------------------------------\u001b[0m",
      "\u001b[0;31mTypeError\u001b[0m                                 Traceback (most recent call last)",
      "Cell \u001b[0;32mIn[131], line 1\u001b[0m\n\u001b[0;32m----> 1\u001b[0m \u001b[43msend_to_db\u001b[49m\u001b[43m(\u001b[49m\u001b[43mformatted_nine_liner\u001b[49m\u001b[43m)\u001b[49m\n",
      "Cell \u001b[0;32mIn[130], line 26\u001b[0m, in \u001b[0;36msend_to_db\u001b[0;34m(nineline)\u001b[0m\n\u001b[1;32m     23\u001b[0m pickup_mark \u001b[38;5;241m=\u001b[39m nineline\u001b[38;5;241m.\u001b[39mget(\u001b[38;5;124m'\u001b[39m\u001b[38;5;124mpickup_mark\u001b[39m\u001b[38;5;124m'\u001b[39m)\n\u001b[1;32m     24\u001b[0m cbrn \u001b[38;5;241m=\u001b[39m nineline\u001b[38;5;241m.\u001b[39mget(\u001b[38;5;124m'\u001b[39m\u001b[38;5;124mcbrn\u001b[39m\u001b[38;5;124m'\u001b[39m)\n\u001b[0;32m---> 26\u001b[0m \u001b[43mnineline_entry\u001b[49m\u001b[38;5;241;43m.\u001b[39;49m\u001b[43minsert\u001b[49m\u001b[43m(\u001b[49m\u001b[43mid_\u001b[49m\u001b[43m,\u001b[49m\u001b[43maudio_transcription\u001b[49m\u001b[43m,\u001b[49m\u001b[43maudio_file\u001b[49m\u001b[43m,\u001b[49m\u001b[43mmgrs\u001b[49m\u001b[43m,\u001b[49m\u001b[43mlat\u001b[49m\u001b[43m,\u001b[49m\u001b[43mlon\u001b[49m\u001b[43m,\u001b[49m\u001b[43mfrequency\u001b[49m\u001b[43m,\u001b[49m\n\u001b[1;32m     27\u001b[0m \u001b[43m                      \u001b[49m\u001b[43murgent\u001b[49m\u001b[43m,\u001b[49m\u001b[43murgent_surgical\u001b[49m\u001b[43m,\u001b[49m\u001b[43mpriority\u001b[49m\u001b[43m,\u001b[49m\u001b[43mroutine\u001b[49m\u001b[43m,\u001b[49m\u001b[43mconvenience\u001b[49m\u001b[43m,\u001b[49m\u001b[43mlitter\u001b[49m\u001b[43m,\u001b[49m\n\u001b[1;32m     28\u001b[0m \u001b[43m                      \u001b[49m\u001b[43mambulatory\u001b[49m\u001b[43m,\u001b[49m\u001b[43m \u001b[49m\u001b[43mus_military\u001b[49m\u001b[43m,\u001b[49m\u001b[43m \u001b[49m\u001b[43mus_civilian\u001b[49m\u001b[43m,\u001b[49m\u001b[43m \u001b[49m\u001b[43mnon_us_military\u001b[49m\u001b[43m,\u001b[49m\n\u001b[1;32m     29\u001b[0m \u001b[43m                      \u001b[49m\u001b[43mnon_us_civilian\u001b[49m\u001b[43m,\u001b[49m\u001b[43m \u001b[49m\u001b[43menemy_prisoner_of_war\u001b[49m\u001b[43m,\u001b[49m\u001b[43mequipment\u001b[49m\u001b[43m,\u001b[49m\u001b[43msite_security\u001b[49m\u001b[43m,\u001b[49m\u001b[43mpickup_mark\u001b[49m\u001b[43m,\u001b[49m\u001b[43mcbrn\u001b[49m\u001b[43m)\u001b[49m\n",
      "\u001b[0;31mTypeError\u001b[0m: insert() takes 22 positional arguments but 23 were given"
     ]
    }
   ],
   "source": [
    "send_to_db(formatted_nine_liner)"
   ]
  },
  {
   "cell_type": "code",
   "execution_count": 69,
   "metadata": {},
   "outputs": [],
   "source": [
    "def text2digits(textnum, numwords={}):\n",
    "    if not numwords:\n",
    "      units = [\n",
    "        \"zero\", \"one\", \"two\", \"three\", \"four\", \"five\", \"six\", \"seven\", \"eight\",\n",
    "        \"nine\", \"ten\", \"eleven\", \"twelve\", \"thirteen\", \"fourteen\", \"fifteen\",\n",
    "        \"sixteen\", \"seventeen\", \"eighteen\", \"nineteen\",\n",
    "      ]\n",
    "\n",
    "      tens = [\"\", \"\", \"twenty\", \"thirty\", \"forty\", \"fifty\", \"sixty\", \"seventy\", \"eighty\", \"ninety\"]\n",
    "\n",
    "      scales = [\"hundred\", \"thousand\", \"million\", \"billion\", \"trillion\"]\n",
    "\n",
    "      numwords[\"and\"] = (1, 0)\n",
    "      for idx, word in enumerate(units):    numwords[word] = (1, idx)\n",
    "      for idx, word in enumerate(tens):     numwords[word] = (1, idx * 10)\n",
    "      for idx, word in enumerate(scales):   numwords[word] = (10 ** (idx * 3 or 2), 0)\n",
    "\n",
    "    current = 0\n",
    "    result=''\n",
    "    for word in textnum.split():\n",
    "        if word not in numwords and len(word)>1:\n",
    "            continue\n",
    "        elif word not in numwords:\n",
    "            result+=word\n",
    "            continue\n",
    "          #raise Exception(\"Illegal word: \" + word)\n",
    "\n",
    "        scale, increment = numwords[word]\n",
    "        current = current * scale + increment\n",
    "        result+=str(increment)\n",
    "        if scale > 100:\n",
    "            result += current\n",
    "            current = 0\n",
    "   # print(temp_str)\n",
    "    return result\n",
    "\n"
   ]
  },
  {
   "cell_type": "code",
   "execution_count": 103,
   "metadata": {},
   "outputs": [],
   "source": [
    "def locate_str(term: str, text_str: str):\n",
    "     match_obj = re.search(term,text_str)\n",
    "     if match_obj:\n",
    "          return match_obj.end() "
   ]
  },
  {
   "cell_type": "code",
   "execution_count": 117,
   "metadata": {},
   "outputs": [],
   "source": [
    "\n",
    "def extract_str_values(option:str,option_list:list ,text_str:str)->str:\n",
    "    item_list = text_str.split()\n",
    "    for item in item_list:\n",
    "        if item in option_list and item == option:\n",
    "            return text2digits(item_list[item_list.index(item)+1])"
   ]
  },
  {
   "cell_type": "code",
   "execution_count": 118,
   "metadata": {},
   "outputs": [],
   "source": [
    "nine_line_converted = {}\n",
    "nine_line_converted['location'] = text2digits(nine_line_dict['location'])\n",
    "nine_line_converted['freq'] = text2digits(nine_line_dict['freq'])\n",
    "nine_line_converted['patient_precedence'] = {'status':nine_line_dict['patient_precedence'].split()[0],\n",
    "                                             'num_patients':text2digits(nine_line_dict['patient_precedence'])} \n",
    "nine_line_converted['equipment'] = nine_line_dict['equipment']\n",
    "nine_line_converted['number_patients'] = {'litter': \n",
    "                                          extract_str_values('litter', mobility, nine_line_dict.get('num_patients')),\n",
    "                                          'ambulatory': \n",
    "                                          extract_str_values('ambulatory', mobility, nine_line_dict.get('num_patients'))}\n",
    "\n",
    "nine_line_converted['site_security'] = nine_line_dict['site_security']\n",
    "nine_line_converted['pickup_mark'] = nine_line_dict['pickup_mark']\n",
    "nine_line_converted['nationality'] = nine_line_dict['nationality']\n",
    "nine_line_converted['cbrn'] = nine_line_dict['cbrn']\n",
    "\n"
   ]
  },
  {
   "cell_type": "code",
   "execution_count": 120,
   "metadata": {},
   "outputs": [],
   "source": [
    "def check_field_options(field_list: list, item:dict):\n",
    "    for field in field_list:\n",
    "        m = re.search(field,item)\n",
    "        return field if m else False"
   ]
  },
  {
   "cell_type": "code",
   "execution_count": 124,
   "metadata": {},
   "outputs": [
    {
     "name": "stdout",
     "output_type": "stream",
     "text": [
      "urgent\n"
     ]
    }
   ],
   "source": [
    "print(check_field_options(status,nine_line_dict.get('patient_precedence')))    "
   ]
  },
  {
   "cell_type": "code",
   "execution_count": 126,
   "metadata": {},
   "outputs": [
    {
     "data": {
      "text/plain": [
       "{'location': '39sxs2983701890',\n",
       " 'freq': '125',\n",
       " 'patient_precedence': {'status': 'urgent', 'num_patients': '3'},\n",
       " 'equipment': 'ventilator',\n",
       " 'number_patients': {'litter': '1', 'ambulatory': '2'},\n",
       " 'site_security': 'no enemies in area',\n",
       " 'pickup_mark': 'smoke signal',\n",
       " 'nationality': 'US military three',\n",
       " 'cbrn': 'chemical'}"
      ]
     },
     "execution_count": 126,
     "metadata": {},
     "output_type": "execute_result"
    }
   ],
   "source": [
    "nine_line_converted"
   ]
  },
  {
   "cell_type": "code",
   "execution_count": null,
   "metadata": {},
   "outputs": [],
   "source": [
    "nine_line_object = {''}"
   ]
  },
  {
   "cell_type": "code",
   "execution_count": 5,
   "metadata": {},
   "outputs": [
    {
     "data": {
      "text/plain": [
       "'line one thirty nine s x s two nine eight three seven zero one eight nine zero line two frequency one two five line three '"
      ]
     },
     "execution_count": 5,
     "metadata": {},
     "output_type": "execute_result"
    }
   ],
   "source": [
    "sample_nine_line"
   ]
  }
 ],
 "metadata": {
  "kernelspec": {
   "display_name": ".venv",
   "language": "python",
   "name": "python3"
  },
  "language_info": {
   "codemirror_mode": {
    "name": "ipython",
    "version": 3
   },
   "file_extension": ".py",
   "mimetype": "text/x-python",
   "name": "python",
   "nbconvert_exporter": "python",
   "pygments_lexer": "ipython3",
   "version": "3.10.14"
  }
 },
 "nbformat": 4,
 "nbformat_minor": 2
}
