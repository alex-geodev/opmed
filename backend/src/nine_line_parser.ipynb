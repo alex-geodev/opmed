{
 "cells": [
  {
   "cell_type": "code",
   "execution_count": 1,
   "metadata": {},
   "outputs": [],
   "source": [
    "import re"
   ]
  },
  {
   "cell_type": "code",
   "execution_count": 22,
   "metadata": {},
   "outputs": [],
   "source": [
    "sample_nine_line = 'line one three nine s x s two nine eight three seven zero one eight nine zero \\\n",
    "line two frequency one two five\\\n",
    "line three urgent three \\\n",
    "line four ventilator \\\n",
    "line five litter one ambulatory two\\\n",
    "line six no enemies in area\\\n",
    "line seven smoke signal\\\n",
    "line eight US military three\\\n",
    "line nine chemical'"
   ]
  },
  {
   "cell_type": "code",
   "execution_count": 40,
   "metadata": {},
   "outputs": [
    {
     "data": {
      "text/plain": [
       "' one three nine s x s two nine eight three seven zero one eight nine zero '"
      ]
     },
     "execution_count": 40,
     "metadata": {},
     "output_type": "execute_result"
    }
   ],
   "source": [
    "nine_line_dict = {line.split()[0]:line for line in sample_nine_line.split('line')[1:]}\n",
    "line_num = {'one':'location', 'two':'freq', 'three':'patient_precedence', \"four\", \"five\", \"six\", \"seven\", \"eight\",\n",
    "\"nine\", \"ten\"]\n",
    "for line in sample_nine_line.split('line'):\n",
    "    if line:\n",
    "        nine_line_dict[line_num[i]]"
   ]
  },
  {
   "cell_type": "code",
   "execution_count": 41,
   "metadata": {},
   "outputs": [
    {
     "data": {
      "text/plain": [
       "{'one': ' one three nine s x s two nine eight three seven zero one eight nine zero ',\n",
       " 'two': ' two frequency one two five',\n",
       " 'three': ' three urgent three ',\n",
       " 'four': ' four ventilator ',\n",
       " 'five': ' five litter one ambulatory two',\n",
       " 'six': ' six no enemies in area',\n",
       " 'seven': ' seven smoke signal',\n",
       " 'eight': ' eight US military three',\n",
       " 'nine': ' nine chemical'}"
      ]
     },
     "execution_count": 41,
     "metadata": {},
     "output_type": "execute_result"
    }
   ],
   "source": [
    "nine_line_dict"
   ]
  },
  {
   "cell_type": "code",
   "execution_count": 35,
   "metadata": {},
   "outputs": [
    {
     "data": {
      "text/plain": [
       "'one'"
      ]
     },
     "execution_count": 35,
     "metadata": {},
     "output_type": "execute_result"
    }
   ],
   "source": [
    "sample_nine_line.split('line')[1].split()[0]"
   ]
  },
  {
   "cell_type": "code",
   "execution_count": 31,
   "metadata": {},
   "outputs": [
    {
     "name": "stdout",
     "output_type": "stream",
     "text": [
      "139sxs2983701890\n"
     ]
    }
   ],
   "source": [
    "def text2grid(textnum, numwords={}):\n",
    "    if not numwords:\n",
    "      units = [\n",
    "        \"zero\", \"one\", \"two\", \"three\", \"four\", \"five\", \"six\", \"seven\", \"eight\",\n",
    "        \"nine\", \"ten\", \"eleven\", \"twelve\", \"thirteen\", \"fourteen\", \"fifteen\",\n",
    "        \"sixteen\", \"seventeen\", \"eighteen\", \"nineteen\",\n",
    "      ]\n",
    "\n",
    "      tens = [\"\", \"\", \"twenty\", \"thirty\", \"forty\", \"fifty\", \"sixty\", \"seventy\", \"eighty\", \"ninety\"]\n",
    "\n",
    "      scales = [\"hundred\", \"thousand\", \"million\", \"billion\", \"trillion\"]\n",
    "\n",
    "      numwords[\"and\"] = (1, 0)\n",
    "      for idx, word in enumerate(units):    numwords[word] = (1, idx)\n",
    "      for idx, word in enumerate(tens):     numwords[word] = (1, idx * 10)\n",
    "      for idx, word in enumerate(scales):   numwords[word] = (10 ** (idx * 3 or 2), 0)\n",
    "\n",
    "    current = 0\n",
    "    result=''\n",
    "    for word in textnum.split():\n",
    "        if word not in numwords:\n",
    "          result+=word\n",
    "          continue\n",
    "          #raise Exception(\"Illegal word: \" + word)\n",
    "\n",
    "        scale, increment = numwords[word]\n",
    "        current = current * scale + increment\n",
    "        result+=str(increment)\n",
    "        if scale > 100:\n",
    "            result += current\n",
    "            current = 0\n",
    "   # print(temp_str)\n",
    "    return result\n",
    "\n",
    "print(text2grid(sample_nine_line.split('line')[1]))"
   ]
  },
  {
   "cell_type": "code",
   "execution_count": null,
   "metadata": {},
   "outputs": [],
   "source": []
  },
  {
   "cell_type": "code",
   "execution_count": null,
   "metadata": {},
   "outputs": [],
   "source": [
    "def convert_nine_line(input_str: str) -> dict:\n",
    "    "
   ]
  },
  {
   "cell_type": "code",
   "execution_count": 5,
   "metadata": {},
   "outputs": [
    {
     "data": {
      "text/plain": [
       "'line one thirty nine s x s two nine eight three seven zero one eight nine zero line two frequency one two five line three '"
      ]
     },
     "execution_count": 5,
     "metadata": {},
     "output_type": "execute_result"
    }
   ],
   "source": [
    "sample_nine_line"
   ]
  }
 ],
 "metadata": {
  "kernelspec": {
   "display_name": ".venv",
   "language": "python",
   "name": "python3"
  },
  "language_info": {
   "codemirror_mode": {
    "name": "ipython",
    "version": 3
   },
   "file_extension": ".py",
   "mimetype": "text/x-python",
   "name": "python",
   "nbconvert_exporter": "python",
   "pygments_lexer": "ipython3",
   "version": "3.11.5"
  }
 },
 "nbformat": 4,
 "nbformat_minor": 2
}
