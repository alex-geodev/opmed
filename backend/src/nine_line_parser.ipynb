{
 "cells": [
  {
   "cell_type": "code",
   "execution_count": 22,
   "metadata": {},
   "outputs": [],
   "source": [
    "import json\n",
    "import re\n",
    "from mgrs_convert import mgrs_to_lat_long\n",
    "from collections import defaultdict"
   ]
  },
  {
   "cell_type": "code",
   "execution_count": null,
   "metadata": {},
   "outputs": [],
   "source": []
  },
  {
   "cell_type": "code",
   "execution_count": 3,
   "metadata": {},
   "outputs": [],
   "source": [
    "status = ['urgent','urgent surgical', 'priority','routine','convenience']\n",
    "mobility = ['litter','ambulatory']\n",
    "nationality = ['us military','us civilian', 'non us military','non us civilian','enemy prisoner of war']"
   ]
  },
  {
   "cell_type": "code",
   "execution_count": 4,
   "metadata": {},
   "outputs": [],
   "source": [
    "with open('../data/nine_lines/nine_line_test.json') as f:\n",
    "    nine_line_output = json.load(f)"
   ]
  },
  {
   "cell_type": "code",
   "execution_count": 5,
   "metadata": {},
   "outputs": [],
   "source": [
    "with open('../data/lookup_tables/numbers.json') as f:\n",
    "    number_dict = json.load(f)\n",
    "\n",
    "with open('../data/lookup_tables/phonetic.json') as f:\n",
    "    phonetic = json.load(f)    "
   ]
  },
  {
   "cell_type": "code",
   "execution_count": 6,
   "metadata": {},
   "outputs": [
    {
     "data": {
      "text/plain": [
       "{'id': 'c3178739-2f4e-4e4d-a335-c1aa3ce733f4',\n",
       " 'audio_path': '/Users/alex/Dev/hackathon/opmed/apinine_line_dom.wav',\n",
       " 'audio_translation': 'nine line as follows line one three six uniform x-ray victor eight one four seven two four four five line two three niner three niner echo seven romeo line three one charlie two delta line four alpha line five one alpha to bravo one line six november line seven alpha line eight three alpha over'}"
      ]
     },
     "execution_count": 6,
     "metadata": {},
     "output_type": "execute_result"
    }
   ],
   "source": [
    "nine_line_output"
   ]
  },
  {
   "cell_type": "code",
   "execution_count": 7,
   "metadata": {},
   "outputs": [],
   "source": [
    "nine_line_dict = {}#{line.split()[0]:line for line in sample_nine_line.split('line')[1:]}\n",
    "line_num = {1:'location', 2:'freq', 3:'patient_precedence', 4:'equipment',\n",
    "             5:'num_patients', 6:'site_security', 7:'pickup_mark', 8:'nationality',\n",
    "             9:'cbrn'}\n",
    "i=1\n",
    "\n",
    "\n",
    "#find line one start\n",
    "line_one_start = re.search('line one',nine_line_output.get('audio_translation'))\n",
    "line_one_start = line_one_start.start()\n",
    "\n",
    "for line in nine_line_output.get('audio_translation')[line_one_start:].split('line'):\n",
    "    if line:\n",
    "        nine_line_dict[line_num[i]] = ' '.join(line.split()[1:])\n",
    "        i+=1"
   ]
  },
  {
   "cell_type": "code",
   "execution_count": 8,
   "metadata": {},
   "outputs": [
    {
     "data": {
      "text/plain": [
       "{'location': 'three six uniform x-ray victor eight one four seven two four four five',\n",
       " 'freq': 'three niner three niner echo seven romeo',\n",
       " 'patient_precedence': 'one charlie two delta',\n",
       " 'equipment': 'alpha',\n",
       " 'num_patients': 'one alpha to bravo one',\n",
       " 'site_security': 'november',\n",
       " 'pickup_mark': 'alpha',\n",
       " 'nationality': 'three alpha over'}"
      ]
     },
     "execution_count": 8,
     "metadata": {},
     "output_type": "execute_result"
    }
   ],
   "source": [
    "nine_line_dict"
   ]
  },
  {
   "cell_type": "code",
   "execution_count": 11,
   "metadata": {},
   "outputs": [],
   "source": [
    "def check_for_phonetic(word:str):\n",
    "   match = [item for item in phonetic.get('phonetic_alphabet') if item == word]\n",
    "   return match[0][0] if match else ''\n",
    "\n",
    "def check_for_number(word:str):\n",
    "   match = [item for item in list(number_dict.get('digits').keys()) if item == word]\n",
    "   return  str(number_dict.get('digits')[match[0]]) if match else ''"
   ]
  },
  {
   "cell_type": "code",
   "execution_count": 30,
   "metadata": {},
   "outputs": [],
   "source": [
    "formatted_nine_liner = defaultdict(dict)\n",
    "for k,v in nine_line_dict.items():\n",
    "    output=''\n",
    "    for word in v.split():\n",
    "        output+=check_for_phonetic(word)\n",
    "        output+=check_for_number(word)\n",
    "    if k == 'location':\n",
    "        lat,lon = mgrs_to_lat_long(output)\n",
    "        formatted_nine_liner[k] = {'mgrs':output,'lat':lat,'lon':lon}\n",
    "    else:\n",
    "        formatted_nine_liner[k]=output\n"
   ]
  },
  {
   "cell_type": "code",
   "execution_count": 32,
   "metadata": {},
   "outputs": [
    {
     "data": {
      "text/plain": [
       "{'location': 'three six uniform x-ray victor eight one four seven two four four five',\n",
       " 'freq': 'three niner three niner echo seven romeo',\n",
       " 'patient_precedence': 'one charlie two delta',\n",
       " 'equipment': 'alpha',\n",
       " 'num_patients': 'one alpha to bravo one',\n",
       " 'site_security': 'november',\n",
       " 'pickup_mark': 'alpha',\n",
       " 'nationality': 'three alpha over'}"
      ]
     },
     "execution_count": 32,
     "metadata": {},
     "output_type": "execute_result"
    }
   ],
   "source": [
    "nine_line_dict"
   ]
  },
  {
   "cell_type": "code",
   "execution_count": 31,
   "metadata": {},
   "outputs": [
    {
     "data": {
      "text/plain": [
       "defaultdict(dict,\n",
       "            {'location': {'mgrs': '36uxv81472445',\n",
       "              'lat': 48.946327719344,\n",
       "              'lon': 35.47848991303637},\n",
       "             'freq': '3939e7r',\n",
       "             'patient_precedence': '1c2d',\n",
       "             'equipment': 'a',\n",
       "             'num_patients': '1a2b1',\n",
       "             'site_security': 'n',\n",
       "             'pickup_mark': 'a',\n",
       "             'nationality': '3a'})"
      ]
     },
     "execution_count": 31,
     "metadata": {},
     "output_type": "execute_result"
    }
   ],
   "source": [
    "formatted_nine_liner"
   ]
  },
  {
   "cell_type": "code",
   "execution_count": 69,
   "metadata": {},
   "outputs": [],
   "source": [
    "def text2digits(textnum, numwords={}):\n",
    "    if not numwords:\n",
    "      units = [\n",
    "        \"zero\", \"one\", \"two\", \"three\", \"four\", \"five\", \"six\", \"seven\", \"eight\",\n",
    "        \"nine\", \"ten\", \"eleven\", \"twelve\", \"thirteen\", \"fourteen\", \"fifteen\",\n",
    "        \"sixteen\", \"seventeen\", \"eighteen\", \"nineteen\",\n",
    "      ]\n",
    "\n",
    "      tens = [\"\", \"\", \"twenty\", \"thirty\", \"forty\", \"fifty\", \"sixty\", \"seventy\", \"eighty\", \"ninety\"]\n",
    "\n",
    "      scales = [\"hundred\", \"thousand\", \"million\", \"billion\", \"trillion\"]\n",
    "\n",
    "      numwords[\"and\"] = (1, 0)\n",
    "      for idx, word in enumerate(units):    numwords[word] = (1, idx)\n",
    "      for idx, word in enumerate(tens):     numwords[word] = (1, idx * 10)\n",
    "      for idx, word in enumerate(scales):   numwords[word] = (10 ** (idx * 3 or 2), 0)\n",
    "\n",
    "    current = 0\n",
    "    result=''\n",
    "    for word in textnum.split():\n",
    "        if word not in numwords and len(word)>1:\n",
    "            continue\n",
    "        elif word not in numwords:\n",
    "            result+=word\n",
    "            continue\n",
    "          #raise Exception(\"Illegal word: \" + word)\n",
    "\n",
    "        scale, increment = numwords[word]\n",
    "        current = current * scale + increment\n",
    "        result+=str(increment)\n",
    "        if scale > 100:\n",
    "            result += current\n",
    "            current = 0\n",
    "   # print(temp_str)\n",
    "    return result\n",
    "\n"
   ]
  },
  {
   "cell_type": "code",
   "execution_count": 103,
   "metadata": {},
   "outputs": [],
   "source": [
    "def locate_str(term: str, text_str: str):\n",
    "     match_obj = re.search(term,text_str)\n",
    "     if match_obj:\n",
    "          return match_obj.end() "
   ]
  },
  {
   "cell_type": "code",
   "execution_count": 117,
   "metadata": {},
   "outputs": [],
   "source": [
    "\n",
    "def extract_str_values(option:str,option_list:list ,text_str:str)->str:\n",
    "    item_list = text_str.split()\n",
    "    for item in item_list:\n",
    "        if item in option_list and item == option:\n",
    "            return text2digits(item_list[item_list.index(item)+1])"
   ]
  },
  {
   "cell_type": "code",
   "execution_count": 118,
   "metadata": {},
   "outputs": [],
   "source": [
    "nine_line_converted = {}\n",
    "nine_line_converted['location'] = text2digits(nine_line_dict['location'])\n",
    "nine_line_converted['freq'] = text2digits(nine_line_dict['freq'])\n",
    "nine_line_converted['patient_precedence'] = {'status':nine_line_dict['patient_precedence'].split()[0],\n",
    "                                             'num_patients':text2digits(nine_line_dict['patient_precedence'])} \n",
    "nine_line_converted['equipment'] = nine_line_dict['equipment']\n",
    "nine_line_converted['number_patients'] = {'litter': \n",
    "                                          extract_str_values('litter', mobility, nine_line_dict.get('num_patients')),\n",
    "                                          'ambulatory': \n",
    "                                          extract_str_values('ambulatory', mobility, nine_line_dict.get('num_patients'))}\n",
    "\n",
    "nine_line_converted['site_security'] = nine_line_dict['site_security']\n",
    "nine_line_converted['pickup_mark'] = nine_line_dict['pickup_mark']\n",
    "nine_line_converted['nationality'] = nine_line_dict['nationality']\n",
    "nine_line_converted['cbrn'] = nine_line_dict['cbrn']\n",
    "\n"
   ]
  },
  {
   "cell_type": "code",
   "execution_count": 120,
   "metadata": {},
   "outputs": [],
   "source": [
    "def check_field_options(field_list: list, item:dict):\n",
    "    for field in field_list:\n",
    "        m = re.search(field,item)\n",
    "        return field if m else False"
   ]
  },
  {
   "cell_type": "code",
   "execution_count": 124,
   "metadata": {},
   "outputs": [
    {
     "name": "stdout",
     "output_type": "stream",
     "text": [
      "urgent\n"
     ]
    }
   ],
   "source": [
    "print(check_field_options(status,nine_line_dict.get('patient_precedence')))    "
   ]
  },
  {
   "cell_type": "code",
   "execution_count": 126,
   "metadata": {},
   "outputs": [
    {
     "data": {
      "text/plain": [
       "{'location': '39sxs2983701890',\n",
       " 'freq': '125',\n",
       " 'patient_precedence': {'status': 'urgent', 'num_patients': '3'},\n",
       " 'equipment': 'ventilator',\n",
       " 'number_patients': {'litter': '1', 'ambulatory': '2'},\n",
       " 'site_security': 'no enemies in area',\n",
       " 'pickup_mark': 'smoke signal',\n",
       " 'nationality': 'US military three',\n",
       " 'cbrn': 'chemical'}"
      ]
     },
     "execution_count": 126,
     "metadata": {},
     "output_type": "execute_result"
    }
   ],
   "source": [
    "nine_line_converted"
   ]
  },
  {
   "cell_type": "code",
   "execution_count": null,
   "metadata": {},
   "outputs": [],
   "source": [
    "nine_line_object = {''}"
   ]
  },
  {
   "cell_type": "code",
   "execution_count": 5,
   "metadata": {},
   "outputs": [
    {
     "data": {
      "text/plain": [
       "'line one thirty nine s x s two nine eight three seven zero one eight nine zero line two frequency one two five line three '"
      ]
     },
     "execution_count": 5,
     "metadata": {},
     "output_type": "execute_result"
    }
   ],
   "source": [
    "sample_nine_line"
   ]
  }
 ],
 "metadata": {
  "kernelspec": {
   "display_name": ".venv",
   "language": "python",
   "name": "python3"
  },
  "language_info": {
   "codemirror_mode": {
    "name": "ipython",
    "version": 3
   },
   "file_extension": ".py",
   "mimetype": "text/x-python",
   "name": "python",
   "nbconvert_exporter": "python",
   "pygments_lexer": "ipython3",
   "version": "3.10.14"
  }
 },
 "nbformat": 4,
 "nbformat_minor": 2
}
